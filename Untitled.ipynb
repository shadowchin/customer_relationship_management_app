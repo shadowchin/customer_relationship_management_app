{
 "cells": [
  {
   "cell_type": "code",
   "execution_count": 1,
   "metadata": {},
   "outputs": [
    {
     "name": "stdout",
     "output_type": "stream",
     "text": [
      "environ({'ALLUSERSPROFILE': 'C:\\\\ProgramData', 'APPDATA': 'C:\\\\Users\\\\shado\\\\AppData\\\\Roaming', 'COMMONPROGRAMFILES': 'C:\\\\Program Files\\\\Common Files', 'COMMONPROGRAMFILES(X86)': 'C:\\\\Program Files (x86)\\\\Common Files', 'COMMONPROGRAMW6432': 'C:\\\\Program Files\\\\Common Files', 'COMPUTERNAME': 'LAPTOP-ESRQ4OKN', 'COMSPEC': 'C:\\\\WINDOWS\\\\system32\\\\cmd.exe', 'DDD': 'True', 'DRIVERDATA': 'C:\\\\Windows\\\\System32\\\\Drivers\\\\DriverData', 'ENV_ROLE': 'development', 'FPS_BROWSER_APP_PROFILE_STRING': 'Internet Explorer', 'FPS_BROWSER_USER_PROFILE_STRING': 'Default', 'HOMEDRIVE': 'C:', 'HOMEPATH': '\\\\Users\\\\shado', 'JAVA_HOME': 'C:\\\\Program Files\\\\Java\\\\jdk1.8.0_201', 'LOCALAPPDATA': 'C:\\\\Users\\\\shado\\\\AppData\\\\Local', 'LOGONSERVER': '\\\\\\\\LAPTOP-ESRQ4OKN', 'MOZ_PLUGIN_PATH': 'C:\\\\Program Files (x86)\\\\Foxit Software\\\\Foxit Reader\\\\plugins\\\\', 'NUMBER_OF_PROCESSORS': '4', 'ONEDRIVE': 'C:\\\\Users\\\\shado\\\\OneDrive - Singapore Management University', 'ONEDRIVECOMMERCIAL': 'C:\\\\Users\\\\shado\\\\OneDrive - Singapore Management University', 'ONEDRIVECONSUMER': 'C:\\\\Users\\\\shado\\\\OneDrive', 'OS': 'Windows_NT', 'PATH': 'c:\\\\users\\\\shado\\\\appdata\\\\local\\\\programs\\\\python\\\\python37\\\\lib\\\\site-packages\\\\pywin32_system32;c:\\\\users\\\\shado\\\\appdata\\\\local\\\\programs\\\\python\\\\python37\\\\lib\\\\site-packages\\\\pywin32_system32;C:\\\\Program Files (x86)\\\\Common Files\\\\Oracle\\\\Java\\\\javapath;C:\\\\WINDOWS\\\\system32;C:\\\\WINDOWS;C:\\\\WINDOWS\\\\System32\\\\Wbem;C:\\\\WINDOWS\\\\System32\\\\WindowsPowerShell\\\\v1.0\\\\;C:\\\\WINDOWS\\\\System32\\\\OpenSSH\\\\;C:\\\\ffmpeg\\\\bin;C:\\\\Program Files\\\\PuTTY\\\\;C:\\\\Program Files\\\\SASHome\\\\SASFoundation\\\\9.4\\\\ets\\\\sasexe;C:\\\\Program Files\\\\SASHome\\\\Secure\\\\ccme4;C:\\\\Program Files\\\\SASHome\\\\x86\\\\Secure\\\\ccme4;C:\\\\Program Files\\\\Git\\\\cmd;C:\\\\Program Files\\\\nodejs\\\\;C:\\\\Program Files (x86)\\\\Calibre2\\\\;C:\\\\Program Files (x86)\\\\Google\\\\Cloud SDK\\\\google-cloud-sdk\\\\bin;C:\\\\Program Files\\\\MySQL\\\\MySQL Utilities 1.6\\\\;C:\\\\Users\\\\shado\\\\AppData\\\\Local\\\\Programs\\\\Python\\\\Python37\\\\Scripts\\\\;C:\\\\Users\\\\shado\\\\AppData\\\\Local\\\\Programs\\\\Python\\\\Python37\\\\;C:\\\\ffmpeg\\\\bin;C:\\\\Users\\\\shado\\\\AppData\\\\Roaming\\\\npm;C:\\\\Program Files\\\\Java\\\\jdk1.8.0_201\\\\bin;C:\\\\Program Files (x86)\\\\Graphviz2.38\\\\bin;C:\\\\Users\\\\shado\\\\AppData\\\\Local\\\\Programs\\\\Microsoft VS Code\\\\bin', 'PATHEXT': '.COM;.EXE;.BAT;.CMD;.VBS;.VBE;.JS;.JSE;.WSF;.WSH;.MSC', 'PROCESSOR_ARCHITECTURE': 'AMD64', 'PROCESSOR_IDENTIFIER': 'Intel64 Family 6 Model 142 Stepping 9, GenuineIntel', 'PROCESSOR_LEVEL': '6', 'PROCESSOR_REVISION': '8e09', 'PROGRAMDATA': 'C:\\\\ProgramData', 'PROGRAMFILES': 'C:\\\\Program Files', 'PROGRAMFILES(X86)': 'C:\\\\Program Files (x86)', 'PROGRAMW6432': 'C:\\\\Program Files', 'PROMPT': '$P$G', 'PSMODULEPATH': 'C:\\\\Program Files (x86)\\\\WindowsPowerShell\\\\Modules;C:\\\\WINDOWS\\\\system32\\\\WindowsPowerShell\\\\v1.0\\\\Modules;C:\\\\Program Files (x86)\\\\Google\\\\Cloud SDK\\\\google-cloud-sdk\\\\platform\\\\PowerShell', 'PUBLIC': 'C:\\\\Users\\\\Public', 'SESSIONNAME': 'Console', 'SYSTEMDRIVE': 'C:', 'SYSTEMROOT': 'C:\\\\WINDOWS', 'TEMP': 'C:\\\\Users\\\\shado\\\\AppData\\\\Local\\\\Temp', 'TMP': 'C:\\\\Users\\\\shado\\\\AppData\\\\Local\\\\Temp', 'USERDOMAIN': 'LAPTOP-ESRQ4OKN', 'USERDOMAIN_ROAMINGPROFILE': 'LAPTOP-ESRQ4OKN', 'USERNAME': 'shado', 'USERPROFILE': 'C:\\\\Users\\\\shado', 'VBOX_MSI_INSTALL_PATH': 'C:\\\\Program Files\\\\Oracle\\\\VirtualBox\\\\', 'WINDIR': 'C:\\\\WINDOWS', 'KERNEL_LAUNCH_TIMEOUT': '40', 'JPY_INTERRUPT_EVENT': '2416', 'IPY_INTERRUPT_EVENT': '2416', 'JPY_PARENT_PID': '2200', 'TERM': 'xterm-color', 'CLICOLOR': '1', 'PAGER': 'cat', 'GIT_PAGER': 'cat', 'MPLBACKEND': 'module://ipykernel.pylab.backend_inline'})\n"
     ]
    }
   ],
   "source": [
    "import os\n",
    " \n",
    "# printing environment variables\n",
    "print(os.environ)"
   ]
  }
 ],
 "metadata": {
  "kernelspec": {
   "display_name": "Python 3",
   "language": "python",
   "name": "python3"
  },
  "language_info": {
   "codemirror_mode": {
    "name": "ipython",
    "version": 3
   },
   "file_extension": ".py",
   "mimetype": "text/x-python",
   "name": "python",
   "nbconvert_exporter": "python",
   "pygments_lexer": "ipython3",
   "version": "3.7.7"
  }
 },
 "nbformat": 4,
 "nbformat_minor": 4
}
